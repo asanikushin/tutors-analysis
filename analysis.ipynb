{
 "cells": [
  {
   "cell_type": "code",
   "execution_count": null,
   "id": "characteristic-divide",
   "metadata": {},
   "outputs": [],
   "source": [
    "from matplotlib import pyplot as plt\n",
    "import pandas as pd\n",
    "import numpy as np\n",
    "\n",
    "import os"
   ]
  },
  {
   "cell_type": "markdown",
   "id": "searching-country",
   "metadata": {},
   "source": [
    "## Чтение агрегированных данных"
   ]
  },
  {
   "cell_type": "code",
   "execution_count": null,
   "id": "welsh-bacteria",
   "metadata": {},
   "outputs": [],
   "source": [
    "PROFILES_DIR = \"profiles\"\n",
    "REVIEWS_DIR = \"reviews\"\n",
    "AGGREGATE_DIR = \"aggregate\"\n",
    "DATA_DIR = \"data\""
   ]
  },
  {
   "cell_type": "code",
   "execution_count": null,
   "id": "alpha-canvas",
   "metadata": {},
   "outputs": [],
   "source": [
    "full_df = pd.read_csv(os.path.join(DATA_DIR, \"full_data.csv\"), delimiter=\",\")"
   ]
  },
  {
   "cell_type": "code",
   "execution_count": null,
   "id": "victorian-injury",
   "metadata": {},
   "outputs": [],
   "source": [
    "sizes = dict()\n",
    "for file in os.listdir(os.path.join(DATA_DIR, AGGREGATE_DIR)):\n",
    "    df = pd.read_csv(os.path.join(DATA_DIR, AGGREGATE_DIR, file))\n",
    "    sizes[file] = len(df)\n",
    "\n",
    "files = sorted(list(sizes.items()), key=lambda x: x[1], reverse=True)[:10]\n",
    "services = [x[0].split(\".\")[0] for x in files]\n",
    "print(\"Top 10 services:\\nTitle\\tCount\")\n",
    "print(*files, sep=\"\\n\")\n",
    "top_10 = []\n",
    "for file in files:\n",
    "    df = pd.read_csv(os.path.join(DATA_DIR, AGGREGATE_DIR, file[0]))\n",
    "    top_10.append(df)"
   ]
  },
  {
   "cell_type": "code",
   "execution_count": null,
   "id": "secondary-tower",
   "metadata": {},
   "outputs": [],
   "source": [
    "full_df"
   ]
  },
  {
   "cell_type": "code",
   "execution_count": null,
   "id": "searching-evanescence",
   "metadata": {},
   "outputs": [],
   "source": [
    "top_10[0].head()"
   ]
  },
  {
   "cell_type": "markdown",
   "id": "intended-librarian",
   "metadata": {},
   "source": [
    "## Общая обработка и сравнительные графики"
   ]
  },
  {
   "cell_type": "code",
   "execution_count": null,
   "id": "immune-switzerland",
   "metadata": {},
   "outputs": [],
   "source": [
    "def calc_ration(total, *counts):\n",
    "    return [cnt / total for cnt in counts]\n",
    "\n",
    "def calc_gender_ratio(df):\n",
    "    total = len(df)\n",
    "    male = len(df[df[\"gender\"] == \"MALE\"])\n",
    "    female = len(df[df[\"gender\"] == \"FEMALE\"])\n",
    "    nan = len(df[pd.isnull(df[\"gender\"])])\n",
    "    return calc_ration(total, male, female, nan)\n",
    "\n",
    "\n",
    "def draw_by_gender(percents, title=\"\"):\n",
    "    count = len(percents[0])\n",
    "    fig, ax = plt.subplots(figsize=(20, 6))\n",
    "    plt.grid(True)\n",
    "    plt.gray()\n",
    "    width = 0.2\n",
    "\n",
    "    b1 = ax.bar([i + 0.00 for i in range(1, count + 1)], percents[0], width, label=\"MALE\")\n",
    "    b2 = ax.bar([i + 0.2 for i in range(1, count + 1)], percents[1], width, label=\"FEMALE\")\n",
    "    b3 = ax.bar([i + 0.4 for i in range(1, count + 1)], percents[2], width, label=\"NaN\")\n",
    "    if len(percents) > 3:\n",
    "        b4 = ax.bar([i + 0.6 for i in range(1, count + 1)], percents[3], width, label=\"All\")\n",
    "\n",
    "    ax.set_xticks([i + 0.3 for i in range(1, count + 1)])\n",
    "    ax.set_xticklabels([\"Все\"] + services, rotation=90)\n",
    "    ax.set_ylabel(\"Ratio\")\n",
    "    ax.legend(loc='upper left')\n",
    "    plt.title(\"Распределение предметам \" + title)\n",
    "    plt.show()"
   ]
  },
  {
   "cell_type": "code",
   "execution_count": null,
   "id": "processed-mother",
   "metadata": {},
   "outputs": [],
   "source": [
    "gr_total = [[], [], []]\n",
    "for df in [full_df] + top_10:\n",
    "    percent = calc_gender_ratio(df)\n",
    "    gr_total[0].append(percent[0])\n",
    "    gr_total[1].append(percent[1])\n",
    "    gr_total[2].append(percent[2])\n",
    "\n",
    "draw_by_gender(gr_total)"
   ]
  },
  {
   "cell_type": "code",
   "execution_count": null,
   "id": "different-thermal",
   "metadata": {},
   "outputs": [],
   "source": [
    "def calc_best_ratio(df):\n",
    "    return len(df[df[\"rating\"] == 5.0]) / len(df)\n",
    "\n",
    "gr_best = [[], [], [], []]\n",
    "for df in [full_df] + top_10:\n",
    "    gr_best[0].append(calc_best_ratio(df[df[\"gender\"] == \"MALE\"]))\n",
    "    gr_best[1].append(calc_best_ratio(df[df[\"gender\"] == \"FEMALE\"]))\n",
    "    gr_best[2].append(calc_best_ratio(df[pd.isnull(df[\"gender\"])]))\n",
    "    gr_best[3].append(calc_best_ratio(df))\n",
    "\n",
    "draw_by_gender(gr_best, title=\"преподавателей с рейтингом 5.0\")"
   ]
  },
  {
   "cell_type": "markdown",
   "id": "disciplinary-pleasure",
   "metadata": {},
   "source": [
    "## Обработка отдельных предметов"
   ]
  },
  {
   "cell_type": "code",
   "execution_count": null,
   "id": "impaired-construction",
   "metadata": {},
   "outputs": [],
   "source": [
    "def build(dataset, service):\n",
    "    print(\"Total describe\")\n",
    "    print(dataset.describe().to_string())\n",
    "\n",
    "    male_df = dataset[dataset[\"gender\"] == \"MALE\"].sort_values(by=[\"rating\"])\n",
    "    female_df = dataset[dataset[\"gender\"] == \"FEMALE\"].sort_values(by=[\"rating\"])\n",
    "    nan_df = dataset[pd.isnull(dataset[\"gender\"])].sort_values(by=[\"rating\"])\n",
    "\n",
    "    print()\n",
    "    print(\"MALE count:\", len(male_df))\n",
    "    print(\"FEMALE count:\", len(female_df))\n",
    "    print(\"NaN count:\", len(nan_df))\n",
    "    \n",
    "    print(\"\\nMALE describe\")\n",
    "    print(male_df.describe().to_string())\n",
    "    print(\"\\nFEMALE describe\")\n",
    "    print(female_df.describe().to_string())\n",
    "    print(\"\\nNaN describe\")\n",
    "    print(nan_df.describe().to_string())\n",
    "\n",
    "    plt.figure(figsize=(15, 6))\n",
    "    plt.grid(True)\n",
    "    plt.hist(female_df[\"rating\"].to_list(), label=\"FEMALE\", alpha=0.5)\n",
    "    plt.hist(male_df[\"rating\"].to_list(), label=\"MALE\", alpha=0.5)\n",
    "    plt.hist(nan_df[\"rating\"].to_list(), label=\"None\", alpha=0.25)\n",
    "    plt.hist(dataset[\"rating\"].to_list(), label=\"All\", alpha=0.25)\n",
    "    plt.legend()\n",
    "    plt.ylabel(\"Count\")\n",
    "    plt.xlabel(\"Rating\")\n",
    "    plt.title(f\"Распределение рейтинга преподавателей, {service}\")\n",
    "    plt.show()\n",
    "\n",
    "    \n",
    "    best_df = dataset[dataset[\"rating\"] == 5.0]\n",
    "\n",
    "    plt.figure(figsize=(15, 6))\n",
    "    plt.grid(True)\n",
    "    plt.hist(best_df.sort_values(by=[\"reviews\"])[\"reviews\"].to_list(), bins=100)\n",
    "    plt.ylabel(\"Count\")\n",
    "    plt.xlabel(\"Reviews count\")\n",
    "    plt.title(f\"Распределение числа отзывов по преподавателям с рейтингом 5.0, {service}\")\n",
    "    plt.show()"
   ]
  },
  {
   "cell_type": "code",
   "execution_count": null,
   "id": "certified-teaching",
   "metadata": {},
   "outputs": [],
   "source": [
    "for index in range(len(files)):\n",
    "    print(f\"Start {services[index]}, rows count: {files[index][1]}\")\n",
    "    build(top_10[index], services[index])\n",
    "    print(\"\\n\\n\\n\\n\\n\")"
   ]
  },
  {
   "cell_type": "code",
   "execution_count": null,
   "id": "visible-exemption",
   "metadata": {},
   "outputs": [],
   "source": []
  }
 ],
 "metadata": {
  "kernelspec": {
   "display_name": "Python 3",
   "language": "python",
   "name": "python3"
  },
  "language_info": {
   "codemirror_mode": {
    "name": "ipython",
    "version": 3
   },
   "file_extension": ".py",
   "mimetype": "text/x-python",
   "name": "python",
   "nbconvert_exporter": "python",
   "pygments_lexer": "ipython3",
   "version": "3.9.2"
  }
 },
 "nbformat": 4,
 "nbformat_minor": 5
}
